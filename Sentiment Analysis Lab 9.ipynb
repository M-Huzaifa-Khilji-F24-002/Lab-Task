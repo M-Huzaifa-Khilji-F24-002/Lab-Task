{
 "cells": [
  {
   "cell_type": "markdown",
   "id": "aac8988f",
   "metadata": {},
   "source": [
    "# Simple Sentiment Analysis using NLTK\n",
    "\n",
    "This notebook demonstrates how to perform basic sentiment analysis on text comments using NLTK (Natural Language Toolkit). We'll break down the process into several steps:\n",
    "\n",
    "1. Installing and importing required libraries\n",
    "2. Preparing text data and preprocessing\n",
    "3. Creating a simple sentiment analyzer\n",
    "4. Testing the analyzer with example comments"
   ]
  },
  {
   "cell_type": "markdown",
   "id": "66afff1b",
   "metadata": {},
   "source": [
    "## Step 1: Install Required Libraries\n",
    "\n",
    "First, we'll install NLTK, which provides tools for natural language processing."
   ]
  },
  {
   "cell_type": "code",
   "execution_count": 1,
   "id": "5aaf1506",
   "metadata": {},
   "outputs": [
    {
     "name": "stderr",
     "output_type": "stream",
     "text": [
      "[nltk_data] Downloading package punkt to\n",
      "[nltk_data]     C:\\Users\\KHILJI\\AppData\\Roaming\\nltk_data...\n",
      "[nltk_data]   Unzipping tokenizers\\punkt.zip.\n",
      "[nltk_data] Downloading package stopwords to\n",
      "[nltk_data]     C:\\Users\\KHILJI\\AppData\\Roaming\\nltk_data...\n",
      "[nltk_data]   Unzipping corpora\\stopwords.zip.\n",
      "[nltk_data] Downloading package vader_lexicon to\n",
      "[nltk_data]     C:\\Users\\KHILJI\\AppData\\Roaming\\nltk_data...\n"
     ]
    },
    {
     "data": {
      "text/plain": [
       "True"
      ]
     },
     "execution_count": 1,
     "metadata": {},
     "output_type": "execute_result"
    }
   ],
   "source": [
    "import nltk\n",
    "import re\n",
    "from nltk.tokenize import word_tokenize\n",
    "from nltk.corpus import stopwords\n",
    "from nltk.sentiment.vader import SentimentIntensityAnalyzer\n",
    "\n",
    "# Download required NLTK data\n",
    "nltk.download('punkt')\n",
    "nltk.download('stopwords')\n",
    "nltk.download('vader_lexicon')"
   ]
  },
  {
   "cell_type": "markdown",
   "id": "fb091049",
   "metadata": {},
   "source": [
    "## Step 2: Text Preprocessing\n",
    "\n",
    "We'll create a function to clean and preprocess text data:\n",
    "1. Convert to lowercase\n",
    "2. Remove special characters and numbers\n",
    "3. Tokenize the text\n",
    "4. Remove stopwords"
   ]
  },
  {
   "cell_type": "code",
   "execution_count": 2,
   "id": "2a4dc199",
   "metadata": {},
   "outputs": [
    {
     "name": "stdout",
     "output_type": "stream",
     "text": [
      "Original text: This movie was really great! I enjoyed it a lot. 10/10 would recommend!\n",
      "Preprocessed text: movie really great enjoyed lot would recommend\n"
     ]
    }
   ],
   "source": [
    "def preprocess_text(text):\n",
    "    # Convert to lowercase\n",
    "    text = text.lower()\n",
    "    \n",
    "    # Remove special characters and numbers\n",
    "    text = re.sub(r'[^a-zA-Z\\s]', '', text)\n",
    "    \n",
    "    # Tokenize the text\n",
    "    tokens = word_tokenize(text)\n",
    "    \n",
    "    # Remove stopwords\n",
    "    stop_words = set(stopwords.words('english'))\n",
    "    tokens = [token for token in tokens if token not in stop_words]\n",
    "    \n",
    "    # Join tokens back into text\n",
    "    return ' '.join(tokens)\n",
    "\n",
    "# Example usage\n",
    "sample_text = \"This movie was really great! I enjoyed it a lot. 10/10 would recommend!\"\n",
    "preprocessed_text = preprocess_text(sample_text)\n",
    "print(\"Original text:\", sample_text)\n",
    "print(\"Preprocessed text:\", preprocessed_text)"
   ]
  },
  {
   "cell_type": "markdown",
   "id": "4b3e4b6b",
   "metadata": {},
   "source": [
    "## Step 3: Sentiment Analysis\n",
    "\n",
    "We'll use NLTK's VADER (Valence Aware Dictionary and sEntiment Reasoner) sentiment analyzer. VADER is specifically attuned to sentiments expressed in social media and works well with short texts."
   ]
  },
  {
   "cell_type": "code",
   "execution_count": 3,
   "id": "b32c4078",
   "metadata": {},
   "outputs": [
    {
     "name": "stdout",
     "output_type": "stream",
     "text": [
      "\n",
      "Comment: This product is amazing! Best purchase ever!\n",
      "Sentiment: Positive\n",
      "Scores: {'neg': 0.0, 'neu': 0.368, 'pos': 0.632, 'compound': 0.8619}\n",
      "\n",
      "Comment: I really hate this, it's terrible and doesn't work at all.\n",
      "Sentiment: Negative\n",
      "Scores: {'neg': 0.47, 'neu': 0.53, 'pos': 0.0, 'compound': -0.796}\n",
      "\n",
      "Comment: It's okay, nothing special but gets the job done.\n",
      "Sentiment: Neutral\n",
      "Scores: {'neg': 0.162, 'neu': 0.695, 'pos': 0.144, 'compound': -0.0462}\n"
     ]
    }
   ],
   "source": [
    "def analyze_sentiment(text):\n",
    "    # Initialize VADER sentiment analyzer\n",
    "    sid = SentimentIntensityAnalyzer()\n",
    "    \n",
    "    # Get sentiment scores\n",
    "    scores = sid.polarity_scores(text)\n",
    "    \n",
    "    # Determine sentiment based on compound score\n",
    "    if scores['compound'] >= 0.05:\n",
    "        sentiment = 'Positive'\n",
    "    elif scores['compound'] <= -0.05:\n",
    "        sentiment = 'Negative'\n",
    "    else:\n",
    "        sentiment = 'Neutral'\n",
    "    \n",
    "    return sentiment, scores\n",
    "\n",
    "# Example comments\n",
    "comments = [\n",
    "    \"This product is amazing! Best purchase ever!\",\n",
    "    \"I really hate this, it's terrible and doesn't work at all.\",\n",
    "    \"It's okay, nothing special but gets the job done.\"\n",
    "]\n",
    "\n",
    "# Analyze each comment\n",
    "for comment in comments:\n",
    "    sentiment, scores = analyze_sentiment(comment)\n",
    "    print(\"\\nComment:\", comment)\n",
    "    print(\"Sentiment:\", sentiment)\n",
    "    print(\"Scores:\", scores)"
   ]
  },
  {
   "cell_type": "markdown",
   "id": "36b93d25",
   "metadata": {},
   "source": [
    "## Step 4: Interactive Testing\n",
    "\n",
    "Now you can test the sentiment analyzer with your own text! Use the cell below to analyze any text comment."
   ]
  },
  {
   "cell_type": "code",
   "execution_count": 4,
   "id": "cc8a2b33",
   "metadata": {},
   "outputs": [
    {
     "name": "stdout",
     "output_type": "stream",
     "text": [
      "Analyzing different types of comments:\n",
      "\n",
      "\n",
      "=== Comment 1 ===\n",
      "Text: The customer service was outstanding! They went above and beyond to help me. I'm extremely satisfied!\n",
      "Sentiment: Positive\n",
      "Detailed scores: {'neg': 0.0, 'neu': 0.556, 'pos': 0.444, 'compound': 0.8854}\n",
      "\n",
      "=== Comment 2 ===\n",
      "Text: This is the worst experience ever. The product broke after one day and no one helped me. Complete waste of money.\n",
      "Sentiment: Negative\n",
      "Detailed scores: {'neg': 0.412, 'neu': 0.588, 'pos': 0.0, 'compound': -0.8979}\n",
      "\n",
      "=== Comment 3 ===\n",
      "Text: The product works as expected. It does what it's supposed to do.\n",
      "Sentiment: Neutral\n",
      "Detailed scores: {'neg': 0.0, 'neu': 1.0, 'pos': 0.0, 'compound': 0.0}\n"
     ]
    }
   ],
   "source": [
    "# Test comments with different sentiments\n",
    "test_comments = [\n",
    "    \"The customer service was outstanding! They went above and beyond to help me. I'm extremely satisfied!\",  # Positive\n",
    "    \"This is the worst experience ever. The product broke after one day and no one helped me. Complete waste of money.\",  # Negative\n",
    "    \"The product works as expected. It does what it's supposed to do.\"  # Neutral\n",
    "]\n",
    "\n",
    "print(\"Analyzing different types of comments:\\n\")\n",
    "for i, comment in enumerate(test_comments, 1):\n",
    "    sentiment, scores = analyze_sentiment(comment)\n",
    "    print(f\"\\n=== Comment {i} ===\")\n",
    "    print(\"Text:\", comment)\n",
    "    print(\"Sentiment:\", sentiment)\n",
    "    print(\"Detailed scores:\", scores)"
   ]
  },
  {
   "cell_type": "code",
   "execution_count": null,
   "id": "aaad8d83",
   "metadata": {},
   "outputs": [],
   "source": []
  }
 ],
 "metadata": {
  "kernelspec": {
   "display_name": "Python 3",
   "language": "python",
   "name": "python3"
  },
  "language_info": {
   "codemirror_mode": {
    "name": "ipython",
    "version": 3
   },
   "file_extension": ".py",
   "mimetype": "text/x-python",
   "name": "python",
   "nbconvert_exporter": "python",
   "pygments_lexer": "ipython3",
   "version": "3.12.6"
  }
 },
 "nbformat": 4,
 "nbformat_minor": 5
}
